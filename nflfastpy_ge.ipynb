{
  "nbformat": 4,
  "nbformat_minor": 0,
  "metadata": {
    "colab": {
      "name": "Untitled0.ipynb",
      "private_outputs": true,
      "provenance": [],
      "authorship_tag": "ABX9TyOxk41cEH7cka/Qn1GY+JLy",
      "include_colab_link": true
    },
    "kernelspec": {
      "name": "python3",
      "display_name": "Python 3"
    },
    "language_info": {
      "name": "python"
    }
  },
  "cells": [
    {
      "cell_type": "markdown",
      "metadata": {
        "id": "view-in-github",
        "colab_type": "text"
      },
      "source": [
        "<a href=\"https://colab.research.google.com/github/AaronAndradeSF/portfolio/blob/master/nflfastpy_ge.ipynb\" target=\"_parent\"><img src=\"https://colab.research.google.com/assets/colab-badge.svg\" alt=\"Open In Colab\"/></a>"
      ]
    },
    {
      "cell_type": "code",
      "metadata": {
        "id": "TpX-Sc2-zrlX"
      },
      "source": [
        "!pip install great-expectations"
      ],
      "execution_count": null,
      "outputs": []
    },
    {
      "cell_type": "code",
      "metadata": {
        "id": "6uTnXkz70U3I"
      },
      "source": [
        "!pip install nflfastpy"
      ],
      "execution_count": null,
      "outputs": []
    },
    {
      "cell_type": "code",
      "metadata": {
        "id": "qZTzIrTWzxsl"
      },
      "source": [
        "import great_expectations as ge "
      ],
      "execution_count": null,
      "outputs": []
    },
    {
      "cell_type": "code",
      "metadata": {
        "id": "MofZAyDJ1p0v"
      },
      "source": [
        "import nflfastpy as nfp"
      ],
      "execution_count": null,
      "outputs": []
    },
    {
      "cell_type": "code",
      "metadata": {
        "id": "WAygloc13GL4"
      },
      "source": [
        "seasons = 2020"
      ],
      "execution_count": null,
      "outputs": []
    },
    {
      "cell_type": "code",
      "metadata": {
        "id": "C91Yk1Uc1ztT"
      },
      "source": [
        "df = nfp.load_pbp_data(year=seasons)"
      ],
      "execution_count": null,
      "outputs": []
    },
    {
      "cell_type": "code",
      "metadata": {
        "id": "ni840MDV28ow"
      },
      "source": [
        "df.head()"
      ],
      "execution_count": null,
      "outputs": []
    },
    {
      "cell_type": "code",
      "metadata": {
        "id": "wdh6en3O3Osv"
      },
      "source": [
        "roster_df = nfp.load_schedule_data"
      ],
      "execution_count": null,
      "outputs": []
    },
    {
      "cell_type": "code",
      "metadata": {
        "id": "tKXRAX063la2"
      },
      "source": [
        "schedule_df = nfp.load_schedule_data(year=seasons)"
      ],
      "execution_count": null,
      "outputs": []
    },
    {
      "cell_type": "code",
      "metadata": {
        "id": "vhz7VQy_39np"
      },
      "source": [
        "# Start Join"
      ],
      "execution_count": null,
      "outputs": []
    },
    {
      "cell_type": "code",
      "metadata": {
        "id": "l_jR8Sh-4XCF"
      },
      "source": [
        "import nflfastpy\n",
        "from nflfastpy.utils import convert_to_gsis_id\n",
        "from nflfastpy import default_headshot\n",
        "from matplotlib import pyplot as plt\n",
        "import pandas as pd\n",
        "import seaborn as sns\n",
        "import requests"
      ],
      "execution_count": null,
      "outputs": []
    },
    {
      "cell_type": "code",
      "metadata": {
        "id": "kic_GR6e4ZH6"
      },
      "source": [
        "print('Example default player headshot\\n')\n",
        "plt.imshow(default_headshot);"
      ],
      "execution_count": null,
      "outputs": []
    },
    {
      "cell_type": "code",
      "metadata": {
        "id": "-nL7ZinL4gIe"
      },
      "source": [
        "df = nflfastpy.load_pbp_data(year=seasons)\n",
        "roster_df = nflfastpy.load_roster_data()\n",
        "team_logo_df = nflfastpy.load_team_logo_data()"
      ],
      "execution_count": null,
      "outputs": []
    },
    {
      "cell_type": "code",
      "metadata": {
        "id": "2GuiFM6m4shc"
      },
      "source": [
        ""
      ],
      "execution_count": null,
      "outputs": []
    }
  ]
}